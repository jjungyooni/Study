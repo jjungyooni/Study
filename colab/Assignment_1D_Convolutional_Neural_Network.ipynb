{
  "nbformat": 4,
  "nbformat_minor": 0,
  "metadata": {
    "colab": {
      "name": "Assignment_1D_Convolutional_Neural_Network.ipynb",
      "version": "0.3.2",
      "provenance": [],
      "collapsed_sections": []
    },
    "kernelspec": {
      "name": "python3",
      "display_name": "Python 3"
    },
    "accelerator": "GPU"
  },
  "cells": [
    {
      "metadata": {
        "id": "AOpOMqkpBG2q",
        "colab_type": "text"
      },
      "cell_type": "markdown",
      "source": [
        "# 1D Convolutional Neural Networks\n",
        "# Exercise1 The Simplest CNN Model\n",
        "\n",
        "In this exercise we will apply 1D convolution on the simple time series array\n",
        "\n",
        "Requirements\n",
        "1. Define Model\n",
        "2. Train Model\n",
        "2. Predict x_input Based on the Trained Model\n",
        "\n",
        "- Hint: How will first layer look like?\n",
        "  - First Conv1D requires below parameters\n",
        "  - filters =?  \n",
        "  - kernel_size =?    \n",
        "  - activation = ? \n",
        "  - input_shape = ?"
      ]
    },
    {
      "metadata": {
        "id": "TZ7eLCgFEuz2",
        "colab_type": "text"
      },
      "cell_type": "markdown",
      "source": [
        "## Simple 1D Time Series Data"
      ]
    },
    {
      "metadata": {
        "id": "RoWnIYkfEMQJ",
        "colab_type": "code",
        "colab": {}
      },
      "cell_type": "code",
      "source": [
        "# univariate cnn example\n",
        "from numpy import array\n",
        "from tensorflow.keras.models import Sequential\n",
        "from tensorflow.keras.layers import Dense\n",
        "from tensorflow.keras.layers import Flatten\n",
        "from tensorflow.keras.layers import Conv1D\n",
        "from tensorflow.keras.layers import MaxPooling1D\n",
        "# define dataset\n",
        "X = array([[10, 20, 30], [20, 30, 40], [30, 40, 50], [40, 50, 60]])\n",
        "y = array([40, 50, 60, 70])\n",
        "\n",
        "# reshape from [samples, timesteps] into [samples, timesteps, features]\n",
        "X = X.reshape((X.shape[0], X.shape[1], 1))"
      ],
      "execution_count": 0,
      "outputs": []
    },
    {
      "metadata": {
        "id": "gabXQ3OJEs_-",
        "colab_type": "text"
      },
      "cell_type": "markdown",
      "source": [
        "## Define Model\n"
      ]
    },
    {
      "metadata": {
        "id": "s4lUMVrlD4ZS",
        "colab_type": "code",
        "colab": {}
      },
      "cell_type": "code",
      "source": [
        "# define model\n",
        "model = Sequential()\n",
        "\n",
        "############################\n",
        "###### write code here #####\n",
        "############################\n",
        "\n",
        "model.compile(optimizer='adam', loss='mse')"
      ],
      "execution_count": 0,
      "outputs": []
    },
    {
      "metadata": {
        "id": "ClDfgW1QE1oh",
        "colab_type": "text"
      },
      "cell_type": "markdown",
      "source": [
        "## Fit Model"
      ]
    },
    {
      "metadata": {
        "id": "Fbxgr8_6D6Nq",
        "colab_type": "code",
        "outputId": "d0945b6a-567e-4590-fe19-cbe97855f8fe",
        "colab": {
          "base_uri": "https://localhost:8080/",
          "height": 105
        }
      },
      "cell_type": "code",
      "source": [
        "# fit model\n",
        "model.fit(X, y, epochs=1000, verbose=0)"
      ],
      "execution_count": 0,
      "outputs": [
        {
          "output_type": "stream",
          "text": [
            "WARNING:tensorflow:From /usr/local/lib/python3.6/dist-packages/tensorflow/python/ops/math_ops.py:3066: to_int32 (from tensorflow.python.ops.math_ops) is deprecated and will be removed in a future version.\n",
            "Instructions for updating:\n",
            "Use tf.cast instead.\n"
          ],
          "name": "stdout"
        },
        {
          "output_type": "execute_result",
          "data": {
            "text/plain": [
              "<tensorflow.python.keras.callbacks.History at 0x7f8f2054af28>"
            ]
          },
          "metadata": {
            "tags": []
          },
          "execution_count": 11
        }
      ]
    },
    {
      "metadata": {
        "id": "ZLawySDAE3f_",
        "colab_type": "text"
      },
      "cell_type": "markdown",
      "source": [
        "## Predict x_input"
      ]
    },
    {
      "metadata": {
        "id": "9dooXelDD7S4",
        "colab_type": "code",
        "colab": {}
      },
      "cell_type": "code",
      "source": [
        "# demonstrate prediction\n",
        "x_input = array([50, 60, 70])\n",
        "x_input = x_input.reshape((1, 3, 1))"
      ],
      "execution_count": 0,
      "outputs": []
    },
    {
      "metadata": {
        "id": "TVepkc7sFG-E",
        "colab_type": "code",
        "outputId": "25c41452-81fe-4c97-f121-958532cf4b49",
        "colab": {
          "base_uri": "https://localhost:8080/",
          "height": 34
        }
      },
      "cell_type": "code",
      "source": [
        "# Prediction Model\n",
        "yhat = model.predict(x_input, verbose=0)\n",
        "print(yhat)"
      ],
      "execution_count": 0,
      "outputs": [
        {
          "output_type": "stream",
          "text": [
            "[[83.811134]]\n"
          ],
          "name": "stdout"
        }
      ]
    },
    {
      "metadata": {
        "id": "k_xQfsdcIh4W",
        "colab_type": "text"
      },
      "cell_type": "markdown",
      "source": [
        "# Exercise2 The Simplest CNN Model + Sin Function\n",
        "\n",
        "In this exercise we will apply 1D convolution on the sinusoidal time series\n",
        "\n",
        "Requirements\n",
        "- Define Model\n",
        "- Train Model\n",
        "- Predict x_input Based on the Trained Model\n",
        "\n",
        "Hint\n",
        "- length_of_sequences = 10\n",
        "- then how will input_shape looks like?"
      ]
    },
    {
      "metadata": {
        "id": "i_wsrmnbP90D",
        "colab_type": "code",
        "colab": {}
      },
      "cell_type": "code",
      "source": [
        "%matplotlib inline\n",
        "\n",
        "import pandas as pd\n",
        "import numpy as np\n",
        "import math\n",
        "\n",
        "import random\n",
        "import matplotlib.pyplot as plt"
      ],
      "execution_count": 0,
      "outputs": []
    },
    {
      "metadata": {
        "id": "U_y_-z1UQCxu",
        "colab_type": "text"
      },
      "cell_type": "markdown",
      "source": [
        "### Generate Noise Sin Values"
      ]
    },
    {
      "metadata": {
        "id": "CMryxi9OP-1p",
        "colab_type": "code",
        "colab": {}
      },
      "cell_type": "code",
      "source": [
        "def noisy_sin(steps_per_cycle = 50,\n",
        "              number_of_cycles = 500,\n",
        "              random_factor = 0.4):\n",
        "  '''\n",
        "  random_factor    : amont of noise in sign wave. 0 = no noise\n",
        "  number_of_cycles : The number of steps required for one cycle\n",
        "\n",
        "  Return : \n",
        "  pd.DataFrame() with column sin_t containing the generated sin wave \n",
        "  '''\n",
        "  random.seed(0)\n",
        "  df = pd.DataFrame(np.arange(steps_per_cycle * number_of_cycles + 1), columns=[\"t\"])\n",
        "  df[\"sin_t\"] = df.t.apply(lambda x: math.sin(x * (2 * math.pi / steps_per_cycle)+ random.uniform(-1.0, +1.0) * random_factor))\n",
        "  df[\"sin_t_clean\"] = df.t.apply(lambda x: math.sin(x * (2 * math.pi / steps_per_cycle)))\n",
        "  print(\"create period-{} sin wave with {} cycles\".format(steps_per_cycle,number_of_cycles))\n",
        "  print(\"In total, the sin wave time series length is {}\".format(steps_per_cycle*number_of_cycles+1))\n",
        "  return(df)"
      ],
      "execution_count": 0,
      "outputs": []
    },
    {
      "metadata": {
        "id": "6Ku13qHIP_hq",
        "colab_type": "code",
        "outputId": "6e6a13b9-e113-4b35-e958-6723fd835651",
        "colab": {
          "base_uri": "https://localhost:8080/",
          "height": 278
        }
      },
      "cell_type": "code",
      "source": [
        "steps_per_cycle = 10\n",
        "\n",
        "df = noisy_sin(steps_per_cycle=steps_per_cycle,\n",
        "              random_factor = 0.2)\n",
        "\n",
        "n_plot = 8\n",
        "df[[\"sin_t\"]].head(steps_per_cycle * n_plot).plot(\n",
        "      title=\"Generated first {} cycles\".format(n_plot),\n",
        "      figsize=(15,3))"
      ],
      "execution_count": 0,
      "outputs": [
        {
          "output_type": "stream",
          "text": [
            "create period-10 sin wave with 500 cycles\n",
            "In total, the sin wave time series length is 5001\n"
          ],
          "name": "stdout"
        },
        {
          "output_type": "execute_result",
          "data": {
            "text/plain": [
              "<matplotlib.axes._subplots.AxesSubplot at 0x7f8f205667f0>"
            ]
          },
          "metadata": {
            "tags": []
          },
          "execution_count": 16
        },
        {
          "output_type": "display_data",
          "data": {
            "image/png": "[encoded data removed]",
            "text/plain": [
              "<Figure size 1080x216 with 1 Axes>"
            ]
          },
          "metadata": {
            "tags": []
          }
        }
      ]
    },
    {
      "metadata": {
        "id": "XsEwkKLkQAd6",
        "colab_type": "text"
      },
      "cell_type": "markdown",
      "source": [
        "### Split Train / Test Data"
      ]
    },
    {
      "metadata": {
        "id": "csLJKWtJQLkp",
        "colab_type": "code",
        "outputId": "b8e9033f-90fe-496d-d1d5-f4e74ed4849a",
        "colab": {
          "base_uri": "https://localhost:8080/",
          "height": 102
        }
      },
      "cell_type": "code",
      "source": [
        "def _load_data(data, n_prev = 100):  \n",
        "  \"\"\"\n",
        "  data should be pd.DataFrame()\n",
        "  \"\"\"\n",
        "\n",
        "  docX, docY = [], []\n",
        "  for i in range(len(data)-n_prev):\n",
        "      docX.append(data.iloc[i:i+n_prev].as_matrix())\n",
        "      docY.append(data.iloc[i+n_prev].as_matrix())\n",
        "  alsX = np.array(docX)\n",
        "  alsY = np.array(docY)\n",
        "\n",
        "  return alsX, alsY\n",
        "\n",
        "length_of_sequences = 10\n",
        "test_size = 0.25\n",
        "\n",
        "ntr = int(len(df) * (1 - test_size))\n",
        "\n",
        "df_train = df[[\"sin_t\"]].iloc[:ntr]\n",
        "df_test  = df[[\"sin_t\"]].iloc[ntr:]\n",
        "(X_train, y_train) = _load_data(df_train, n_prev = length_of_sequences)\n",
        "(X_test, y_test)   = _load_data(df_test, n_prev = length_of_sequences)  \n",
        "\n",
        "print(X_train.shape, y_train.shape, X_test.shape, y_test.shape)"
      ],
      "execution_count": 0,
      "outputs": [
        {
          "output_type": "stream",
          "text": [
            "/usr/local/lib/python3.6/dist-packages/ipykernel_launcher.py:8: FutureWarning: Method .as_matrix will be removed in a future version. Use .values instead.\n",
            "  \n",
            "/usr/local/lib/python3.6/dist-packages/ipykernel_launcher.py:9: FutureWarning: Method .as_matrix will be removed in a future version. Use .values instead.\n",
            "  if __name__ == '__main__':\n"
          ],
          "name": "stderr"
        },
        {
          "output_type": "stream",
          "text": [
            "(3740, 10, 1) (3740, 1) (1241, 10, 1) (1241, 1)\n"
          ],
          "name": "stdout"
        }
      ]
    },
    {
      "metadata": {
        "id": "5DpV0ux0QN28",
        "colab_type": "text"
      },
      "cell_type": "markdown",
      "source": [
        "### Build Model"
      ]
    },
    {
      "metadata": {
        "id": "FunJj9o8QNeK",
        "colab_type": "code",
        "colab": {}
      },
      "cell_type": "code",
      "source": [
        "from tensorflow.keras.models import Sequential\n",
        "from tensorflow.keras.layers import Dense\n",
        "from tensorflow.keras.layers import Flatten\n",
        "from tensorflow.keras.layers import Conv1D\n",
        "from tensorflow.keras.layers import MaxPooling1D\n",
        "\n",
        "model = Sequential()\n",
        "\n",
        "############################\n",
        "###### write code here #####\n",
        "############################\n",
        "\n",
        "model.compile(loss=\"mean_squared_error\", optimizer=\"rmsprop\")\n",
        "  \n",
        "## use the default values for batch_size, stateful\n",
        "model.summary()"
      ],
      "execution_count": 0,
      "outputs": []
    },
    {
      "metadata": {
        "id": "KHufBsrxQPyh",
        "colab_type": "text"
      },
      "cell_type": "markdown",
      "source": [
        "### Train Model"
      ]
    },
    {
      "metadata": {
        "id": "Qh90ykvbQTGC",
        "colab_type": "code",
        "colab": {}
      },
      "cell_type": "code",
      "source": [
        "hist = model.fit(X_train, y_train, batch_size=600, epochs=100, \n",
        "                 verbose=False,validation_split=0.05)"
      ],
      "execution_count": 0,
      "outputs": []
    },
    {
      "metadata": {
        "id": "s5T0lC3PQVAo",
        "colab_type": "code",
        "colab": {}
      },
      "cell_type": "code",
      "source": [
        "for label in [\"loss\",\"val_loss\"]:\n",
        "    plt.plot(hist.history[label],label=label)\n",
        "\n",
        "plt.ylabel(\"loss\")\n",
        "plt.xlabel(\"epoch\")\n",
        "plt.title(\"The final validation loss: {}\".format(hist.history[\"val_loss\"][-1]))\n",
        "plt.legend()\n",
        "plt.show()"
      ],
      "execution_count": 0,
      "outputs": []
    },
    {
      "metadata": {
        "id": "3YuK1IjMQZNU",
        "colab_type": "text"
      },
      "cell_type": "markdown",
      "source": [
        "### Predict Model"
      ]
    },
    {
      "metadata": {
        "id": "45JOrdroQV6n",
        "colab_type": "code",
        "colab": {}
      },
      "cell_type": "code",
      "source": [
        "y_pred = model.predict(X_test)\n",
        "plt.figure(figsize=(19,3))\n",
        "\n",
        "plt.plot(y_test[:100],label=\"true\")\n",
        "plt.plot(y_pred[:100],label=\"predicted\")\n",
        "plt.legend()\n",
        "plt.show()"
      ],
      "execution_count": 0,
      "outputs": []
    }
  ]
}